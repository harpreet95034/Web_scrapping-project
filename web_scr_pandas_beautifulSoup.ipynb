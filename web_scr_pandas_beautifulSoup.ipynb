{
 "cells": [
  {
   "cell_type": "code",
   "execution_count": 1,
   "metadata": {},
   "outputs": [],
   "source": [
    "import requests\n",
    "from bs4 import BeautifulSoup"
   ]
  },
  {
   "cell_type": "code",
   "execution_count": 2,
   "metadata": {},
   "outputs": [],
   "source": [
    "import pandas as pd\n",
    "import numpy as np\n",
    "import csv"
   ]
  },
  {
   "cell_type": "code",
   "execution_count": 3,
   "metadata": {},
   "outputs": [],
   "source": [
    "# Step 1 : downloading weather data from National Weather Service website\n",
    "we= requests.get(\"https://forecast.weather.gov/MapClick.php?lat=37.7772&lon=-122.4168#.XJzXxfZFw2w\")\n",
    "weather = BeautifulSoup(we.content,\"html.parser\")\n"
   ]
  },
  {
   "cell_type": "code",
   "execution_count": 11,
   "metadata": {},
   "outputs": [],
   "source": [
    "seven = weather.find(id = 'seven-day-forecast')\n"
   ]
  },
  {
   "cell_type": "code",
   "execution_count": 29,
   "metadata": {},
   "outputs": [
    {
     "data": {
      "text/plain": [
       "['ThisAfternoon',\n",
       " 'Tonight',\n",
       " 'Friday',\n",
       " 'FridayNight',\n",
       " 'Saturday',\n",
       " 'SaturdayNight',\n",
       " 'Sunday',\n",
       " 'SundayNight',\n",
       " 'Monday']"
      ]
     },
     "execution_count": 29,
     "metadata": {},
     "output_type": "execute_result"
    }
   ],
   "source": [
    "#period_list = seven.select('.tombstone-container .period-name')\n",
    "periods = [p.get_text() for p in seven.select('.tombstone-container .period-name')] \n",
    "periods"
   ]
  },
  {
   "cell_type": "code",
   "execution_count": 30,
   "metadata": {},
   "outputs": [
    {
     "data": {
      "text/plain": [
       "['ShowersLikely',\n",
       " 'ChanceShowers thenMostly Cloudy',\n",
       " 'Mostly Sunny',\n",
       " 'Mostly Clear',\n",
       " 'Mostly Sunny',\n",
       " 'Partly Cloudy',\n",
       " 'Mostly Sunny',\n",
       " 'Mostly Cloudy',\n",
       " 'Slight ChanceShowers']"
      ]
     },
     "execution_count": 30,
     "metadata": {},
     "output_type": "execute_result"
    }
   ],
   "source": [
    "desc = [p.get_text() for p in seven.select('.tombstone-container .short-desc')] \n",
    "desc"
   ]
  },
  {
   "cell_type": "code",
   "execution_count": 31,
   "metadata": {},
   "outputs": [
    {
     "data": {
      "text/plain": [
       "['High: 59 °F',\n",
       " 'Low: 50 °F',\n",
       " 'High: 60 °F',\n",
       " 'Low: 48 °F',\n",
       " 'High: 64 °F',\n",
       " 'Low: 49 °F',\n",
       " 'High: 69 °F',\n",
       " 'Low: 52 °F',\n",
       " 'High: 65 °F']"
      ]
     },
     "execution_count": 31,
     "metadata": {},
     "output_type": "execute_result"
    }
   ],
   "source": [
    "temps = [p.get_text() for p in seven.select('.tombstone-container .temp')] \n",
    "temps"
   ]
  },
  {
   "cell_type": "code",
   "execution_count": 32,
   "metadata": {},
   "outputs": [
    {
     "data": {
      "text/plain": [
       "['This Afternoon: Showers likely.  Mostly cloudy, with a high near 59. Southwest wind around 18 mph, with gusts as high as 24 mph.  Chance of precipitation is 60%. New precipitation amounts between a tenth and quarter of an inch possible. ',\n",
       " 'Tonight: A 30 percent chance of showers before 11pm.  Mostly cloudy, with a low around 50. West wind 12 to 17 mph decreasing to 5 to 10 mph after midnight. Winds could gust as high as 22 mph.  New precipitation amounts of less than a tenth of an inch possible. ',\n",
       " 'Friday: Mostly sunny, with a high near 60. West northwest wind 6 to 16 mph, with gusts as high as 21 mph. ',\n",
       " 'Friday Night: Mostly clear, with a low around 48. North northwest wind 11 to 16 mph decreasing to 5 to 10 mph in the evening. Winds could gust as high as 22 mph. ',\n",
       " 'Saturday: Mostly sunny, with a high near 64. North wind 5 to 10 mph becoming west 12 to 17 mph in the afternoon. Winds could gust as high as 22 mph. ',\n",
       " 'Saturday Night: Partly cloudy, with a low around 49.',\n",
       " 'Sunday: Mostly sunny, with a high near 69.',\n",
       " 'Sunday Night: Mostly cloudy, with a low around 52.',\n",
       " 'Monday: A slight chance of showers.  Mostly cloudy, with a high near 65.']"
      ]
     },
     "execution_count": 32,
     "metadata": {},
     "output_type": "execute_result"
    }
   ],
   "source": [
    "# extract 'title' tag from the 'img' tag\n",
    "imgs = [i['title'] for i in seven.select('.tombstone-container img')]\n",
    "imgs"
   ]
  },
  {
   "cell_type": "code",
   "execution_count": 33,
   "metadata": {},
   "outputs": [
    {
     "data": {
      "text/html": [
       "<div>\n",
       "<style scoped>\n",
       "    .dataframe tbody tr th:only-of-type {\n",
       "        vertical-align: middle;\n",
       "    }\n",
       "\n",
       "    .dataframe tbody tr th {\n",
       "        vertical-align: top;\n",
       "    }\n",
       "\n",
       "    .dataframe thead th {\n",
       "        text-align: right;\n",
       "    }\n",
       "</style>\n",
       "<table border=\"1\" class=\"dataframe\">\n",
       "  <thead>\n",
       "    <tr style=\"text-align: right;\">\n",
       "      <th></th>\n",
       "      <th>Description</th>\n",
       "      <th>Periods</th>\n",
       "      <th>Title</th>\n",
       "      <th>temperature</th>\n",
       "    </tr>\n",
       "  </thead>\n",
       "  <tbody>\n",
       "    <tr>\n",
       "      <th>0</th>\n",
       "      <td>ShowersLikely</td>\n",
       "      <td>ThisAfternoon</td>\n",
       "      <td>This Afternoon: Showers likely.  Mostly cloudy...</td>\n",
       "      <td>High: 59 °F</td>\n",
       "    </tr>\n",
       "    <tr>\n",
       "      <th>1</th>\n",
       "      <td>ChanceShowers thenMostly Cloudy</td>\n",
       "      <td>Tonight</td>\n",
       "      <td>Tonight: A 30 percent chance of showers before...</td>\n",
       "      <td>Low: 50 °F</td>\n",
       "    </tr>\n",
       "    <tr>\n",
       "      <th>2</th>\n",
       "      <td>Mostly Sunny</td>\n",
       "      <td>Friday</td>\n",
       "      <td>Friday: Mostly sunny, with a high near 60. Wes...</td>\n",
       "      <td>High: 60 °F</td>\n",
       "    </tr>\n",
       "    <tr>\n",
       "      <th>3</th>\n",
       "      <td>Mostly Clear</td>\n",
       "      <td>FridayNight</td>\n",
       "      <td>Friday Night: Mostly clear, with a low around ...</td>\n",
       "      <td>Low: 48 °F</td>\n",
       "    </tr>\n",
       "    <tr>\n",
       "      <th>4</th>\n",
       "      <td>Mostly Sunny</td>\n",
       "      <td>Saturday</td>\n",
       "      <td>Saturday: Mostly sunny, with a high near 64. N...</td>\n",
       "      <td>High: 64 °F</td>\n",
       "    </tr>\n",
       "    <tr>\n",
       "      <th>5</th>\n",
       "      <td>Partly Cloudy</td>\n",
       "      <td>SaturdayNight</td>\n",
       "      <td>Saturday Night: Partly cloudy, with a low arou...</td>\n",
       "      <td>Low: 49 °F</td>\n",
       "    </tr>\n",
       "    <tr>\n",
       "      <th>6</th>\n",
       "      <td>Mostly Sunny</td>\n",
       "      <td>Sunday</td>\n",
       "      <td>Sunday: Mostly sunny, with a high near 69.</td>\n",
       "      <td>High: 69 °F</td>\n",
       "    </tr>\n",
       "    <tr>\n",
       "      <th>7</th>\n",
       "      <td>Mostly Cloudy</td>\n",
       "      <td>SundayNight</td>\n",
       "      <td>Sunday Night: Mostly cloudy, with a low around...</td>\n",
       "      <td>Low: 52 °F</td>\n",
       "    </tr>\n",
       "    <tr>\n",
       "      <th>8</th>\n",
       "      <td>Slight ChanceShowers</td>\n",
       "      <td>Monday</td>\n",
       "      <td>Monday: A slight chance of showers.  Mostly cl...</td>\n",
       "      <td>High: 65 °F</td>\n",
       "    </tr>\n",
       "  </tbody>\n",
       "</table>\n",
       "</div>"
      ],
      "text/plain": [
       "                       Description        Periods  \\\n",
       "0                    ShowersLikely  ThisAfternoon   \n",
       "1  ChanceShowers thenMostly Cloudy        Tonight   \n",
       "2                     Mostly Sunny         Friday   \n",
       "3                     Mostly Clear    FridayNight   \n",
       "4                     Mostly Sunny       Saturday   \n",
       "5                    Partly Cloudy  SaturdayNight   \n",
       "6                     Mostly Sunny         Sunday   \n",
       "7                    Mostly Cloudy    SundayNight   \n",
       "8             Slight ChanceShowers         Monday   \n",
       "\n",
       "                                               Title  temperature  \n",
       "0  This Afternoon: Showers likely.  Mostly cloudy...  High: 59 °F  \n",
       "1  Tonight: A 30 percent chance of showers before...   Low: 50 °F  \n",
       "2  Friday: Mostly sunny, with a high near 60. Wes...  High: 60 °F  \n",
       "3  Friday Night: Mostly clear, with a low around ...   Low: 48 °F  \n",
       "4  Saturday: Mostly sunny, with a high near 64. N...  High: 64 °F  \n",
       "5  Saturday Night: Partly cloudy, with a low arou...   Low: 49 °F  \n",
       "6         Sunday: Mostly sunny, with a high near 69.  High: 69 °F  \n",
       "7  Sunday Night: Mostly cloudy, with a low around...   Low: 52 °F  \n",
       "8  Monday: A slight chance of showers.  Mostly cl...  High: 65 °F  "
      ]
     },
     "execution_count": 33,
     "metadata": {},
     "output_type": "execute_result"
    }
   ],
   "source": [
    "# combining data into Pandas Dataframe\n",
    "pd.DataFrame({\n",
    "    'Periods': periods,\n",
    "    'Description' : desc,\n",
    "    'temperature' : temps,\n",
    "    'Title' : imgs\n",
    "})"
   ]
  },
  {
   "cell_type": "code",
   "execution_count": 1,
   "metadata": {},
   "outputs": [
    {
     "data": {
      "text/plain": [
       "'C:\\\\Users\\\\Harpreet Singh'"
      ]
     },
     "execution_count": 1,
     "metadata": {},
     "output_type": "execute_result"
    }
   ],
   "source": [
    "pwd"
   ]
  },
  {
   "cell_type": "code",
   "execution_count": null,
   "metadata": {},
   "outputs": [],
   "source": []
  }
 ],
 "metadata": {
  "kernelspec": {
   "display_name": "Python 3",
   "language": "python",
   "name": "python3"
  },
  "language_info": {
   "codemirror_mode": {
    "name": "ipython",
    "version": 3
   },
   "file_extension": ".py",
   "mimetype": "text/x-python",
   "name": "python",
   "nbconvert_exporter": "python",
   "pygments_lexer": "ipython3",
   "version": "3.6.4"
  }
 },
 "nbformat": 4,
 "nbformat_minor": 2
}
